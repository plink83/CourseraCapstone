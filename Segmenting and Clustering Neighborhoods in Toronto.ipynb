{
    "nbformat_minor": 1, 
    "cells": [
        {
            "source": "# Segmenting and Clustering Neighborhoods", 
            "cell_type": "markdown", 
            "metadata": {
                "collapsed": true
            }
        }, 
        {
            "source": "## Import and Cleaning", 
            "cell_type": "markdown", 
            "metadata": {}
        }, 
        {
            "source": "1. The dataframe will consist of three columns: PostalCode, Borough, and Neighborhood\n2. Only process the cells that have an assigned borough. Ignore cells with a borough that is Not assigned.\n3. More than one neighborhood can exist in one postal code area. For example, in the table on the Wikipedia page, you will notice that M5A is listed twice and has two neighborhoods: Harbourfront and Regent Park. These two rows will be combined into one row with the neighborhoods separated with a comma as shown in row 11 in the above table.\n4. If a cell has a borough but a Not assigned neighborhood, then the neighborhood will be the same as the borough. So for the 9th cell in the table on the Wikipedia page, the value of the Borough and the Neighborhood columns will be Queen's Park.\n5. Clean your Notebook and add Markdown cells to explain your work and any assumptions you are making.\n6. In the last cell of your notebook, use the .shape method to print the number of rows of your dataframe.\n7. Submit a link to your Notebook on your Github repository. (10 marks)", 
            "cell_type": "markdown", 
            "metadata": {}
        }, 
        {
            "execution_count": 1, 
            "cell_type": "code", 
            "metadata": {}, 
            "outputs": [], 
            "source": "#Imports\nimport numpy as np\nimport pandas as pd"
        }, 
        {
            "execution_count": 2, 
            "cell_type": "code", 
            "metadata": {}, 
            "outputs": [
                {
                    "execution_count": 2, 
                    "metadata": {}, 
                    "data": {
                        "text/html": "<div>\n<style scoped>\n    .dataframe tbody tr th:only-of-type {\n        vertical-align: middle;\n    }\n\n    .dataframe tbody tr th {\n        vertical-align: top;\n    }\n\n    .dataframe thead th {\n        text-align: right;\n    }\n</style>\n<table border=\"1\" class=\"dataframe\">\n  <thead>\n    <tr style=\"text-align: right;\">\n      <th></th>\n      <th>Postcode</th>\n      <th>Borough</th>\n      <th>Neighbourhood</th>\n    </tr>\n  </thead>\n  <tbody>\n    <tr>\n      <th>0</th>\n      <td>M1A</td>\n      <td>Not assigned</td>\n      <td>Not assigned</td>\n    </tr>\n    <tr>\n      <th>1</th>\n      <td>M2A</td>\n      <td>Not assigned</td>\n      <td>Not assigned</td>\n    </tr>\n    <tr>\n      <th>2</th>\n      <td>M3A</td>\n      <td>North York</td>\n      <td>Parkwoods</td>\n    </tr>\n    <tr>\n      <th>3</th>\n      <td>M4A</td>\n      <td>North York</td>\n      <td>Victoria Village</td>\n    </tr>\n    <tr>\n      <th>4</th>\n      <td>M5A</td>\n      <td>Downtown Toronto</td>\n      <td>Harbourfront</td>\n    </tr>\n  </tbody>\n</table>\n</div>", 
                        "text/plain": "  Postcode           Borough     Neighbourhood\n0      M1A      Not assigned      Not assigned\n1      M2A      Not assigned      Not assigned\n2      M3A        North York         Parkwoods\n3      M4A        North York  Victoria Village\n4      M5A  Downtown Toronto      Harbourfront"
                    }, 
                    "output_type": "execute_result"
                }
            ], 
            "source": "#Import All Data\nurl = \"https://en.wikipedia.org/wiki/List_of_postal_codes_of_Canada:_M\"\nimports = pd.read_html(url, header=0)\ndf = pd.DataFrame(imports[0])\ndf.head()"
        }, 
        {
            "execution_count": 3, 
            "cell_type": "code", 
            "metadata": {}, 
            "outputs": [
                {
                    "execution_count": 3, 
                    "metadata": {}, 
                    "data": {
                        "text/html": "<div>\n<style scoped>\n    .dataframe tbody tr th:only-of-type {\n        vertical-align: middle;\n    }\n\n    .dataframe tbody tr th {\n        vertical-align: top;\n    }\n\n    .dataframe thead th {\n        text-align: right;\n    }\n</style>\n<table border=\"1\" class=\"dataframe\">\n  <thead>\n    <tr style=\"text-align: right;\">\n      <th></th>\n      <th>Postcode</th>\n      <th>Borough</th>\n      <th>Neighbourhood</th>\n    </tr>\n  </thead>\n  <tbody>\n    <tr>\n      <th>count</th>\n      <td>288</td>\n      <td>288</td>\n      <td>288</td>\n    </tr>\n    <tr>\n      <th>unique</th>\n      <td>180</td>\n      <td>12</td>\n      <td>209</td>\n    </tr>\n    <tr>\n      <th>top</th>\n      <td>M8Y</td>\n      <td>Not assigned</td>\n      <td>Not assigned</td>\n    </tr>\n    <tr>\n      <th>freq</th>\n      <td>8</td>\n      <td>77</td>\n      <td>78</td>\n    </tr>\n  </tbody>\n</table>\n</div>", 
                        "text/plain": "       Postcode       Borough Neighbourhood\ncount       288           288           288\nunique      180            12           209\ntop         M8Y  Not assigned  Not assigned\nfreq          8            77            78"
                    }, 
                    "output_type": "execute_result"
                }
            ], 
            "source": "df.describe()"
        }, 
        {
            "execution_count": 4, 
            "cell_type": "code", 
            "metadata": {}, 
            "outputs": [
                {
                    "execution_count": 4, 
                    "metadata": {}, 
                    "data": {
                        "text/html": "<div>\n<style scoped>\n    .dataframe tbody tr th:only-of-type {\n        vertical-align: middle;\n    }\n\n    .dataframe tbody tr th {\n        vertical-align: top;\n    }\n\n    .dataframe thead th {\n        text-align: right;\n    }\n</style>\n<table border=\"1\" class=\"dataframe\">\n  <thead>\n    <tr style=\"text-align: right;\">\n      <th></th>\n      <th>Borough</th>\n      <th>PostalCode</th>\n      <th>Neighbourhood</th>\n    </tr>\n  </thead>\n  <tbody>\n    <tr>\n      <th>0</th>\n      <td>North York</td>\n      <td>M3A</td>\n      <td>Parkwoods</td>\n    </tr>\n    <tr>\n      <th>1</th>\n      <td>North York</td>\n      <td>M4A</td>\n      <td>Victoria Village</td>\n    </tr>\n    <tr>\n      <th>2</th>\n      <td>Downtown Toronto</td>\n      <td>M5A</td>\n      <td>Harbourfront</td>\n    </tr>\n    <tr>\n      <th>3</th>\n      <td>Downtown Toronto</td>\n      <td>M5A</td>\n      <td>Regent Park</td>\n    </tr>\n    <tr>\n      <th>4</th>\n      <td>North York</td>\n      <td>M6A</td>\n      <td>Lawrence Heights</td>\n    </tr>\n  </tbody>\n</table>\n</div>", 
                        "text/plain": "            Borough PostalCode     Neighbourhood\n0        North York        M3A         Parkwoods\n1        North York        M4A  Victoria Village\n2  Downtown Toronto        M5A      Harbourfront\n3  Downtown Toronto        M5A       Regent Park\n4        North York        M6A  Lawrence Heights"
                    }, 
                    "output_type": "execute_result"
                }
            ], 
            "source": "# delete \"Not assigned\" and rename columns\ndf = df.set_index(\"Borough\")\ndf = df.drop(\"Not assigned\", axis=0)\ndf.rename(columns={\"Postcode\": \"PostalCode\"}, inplace=True)\ndf=df.reset_index()\ndf.head()"
        }, 
        {
            "execution_count": 5, 
            "cell_type": "code", 
            "metadata": {}, 
            "outputs": [
                {
                    "execution_count": 5, 
                    "metadata": {}, 
                    "data": {
                        "text/plain": "(211, 3)"
                    }, 
                    "output_type": "execute_result"
                }
            ], 
            "source": "df.shape"
        }, 
        {
            "execution_count": 6, 
            "cell_type": "code", 
            "metadata": {}, 
            "outputs": [], 
            "source": "#combine rows\ndfN=pd.DataFrame(df.groupby([\"PostalCode\",\"Borough\"])['Neighbourhood'].apply(lambda tags: ','.join(tags)))\ndfN=dfN.reset_index()"
        }, 
        {
            "execution_count": 7, 
            "cell_type": "code", 
            "metadata": {}, 
            "outputs": [
                {
                    "output_type": "stream", 
                    "name": "stdout", 
                    "text": "85 M7A Queen's Park Not assigned\n"
                }
            ], 
            "source": "for index, row in dfN.iterrows():\n    x=row['Neighbourhood']\n    y=row['Borough']\n    z=row['PostalCode']\n    if x==\"Not assigned\":\n        print(index,z,y,x)\n        dfN.at[index,\"Neighbourhood\"]=y"
        }, 
        {
            "execution_count": 8, 
            "cell_type": "code", 
            "metadata": {}, 
            "outputs": [
                {
                    "execution_count": 8, 
                    "metadata": {}, 
                    "data": {
                        "text/html": "<div>\n<style scoped>\n    .dataframe tbody tr th:only-of-type {\n        vertical-align: middle;\n    }\n\n    .dataframe tbody tr th {\n        vertical-align: top;\n    }\n\n    .dataframe thead th {\n        text-align: right;\n    }\n</style>\n<table border=\"1\" class=\"dataframe\">\n  <thead>\n    <tr style=\"text-align: right;\">\n      <th></th>\n      <th>PostalCode</th>\n      <th>Borough</th>\n      <th>Neighbourhood</th>\n    </tr>\n  </thead>\n  <tbody>\n    <tr>\n      <th>83</th>\n      <td>M6R</td>\n      <td>West Toronto</td>\n      <td>Parkdale,Roncesvalles</td>\n    </tr>\n    <tr>\n      <th>84</th>\n      <td>M6S</td>\n      <td>West Toronto</td>\n      <td>Runnymede,Swansea</td>\n    </tr>\n    <tr>\n      <th>85</th>\n      <td>M7A</td>\n      <td>Queen's Park</td>\n      <td>Queen's Park</td>\n    </tr>\n    <tr>\n      <th>86</th>\n      <td>M7R</td>\n      <td>Mississauga</td>\n      <td>Canada Post Gateway Processing Centre</td>\n    </tr>\n    <tr>\n      <th>87</th>\n      <td>M7Y</td>\n      <td>East Toronto</td>\n      <td>Business Reply Mail Processing Centre 969 Eastern</td>\n    </tr>\n    <tr>\n      <th>88</th>\n      <td>M8V</td>\n      <td>Etobicoke</td>\n      <td>Humber Bay Shores,Mimico South,New Toronto</td>\n    </tr>\n    <tr>\n      <th>89</th>\n      <td>M8W</td>\n      <td>Etobicoke</td>\n      <td>Alderwood,Long Branch</td>\n    </tr>\n    <tr>\n      <th>90</th>\n      <td>M8X</td>\n      <td>Etobicoke</td>\n      <td>The Kingsway,Montgomery Road,Old Mill North</td>\n    </tr>\n    <tr>\n      <th>91</th>\n      <td>M8Y</td>\n      <td>Etobicoke</td>\n      <td>Humber Bay,King's Mill Park,Kingsway Park Sout...</td>\n    </tr>\n    <tr>\n      <th>92</th>\n      <td>M8Z</td>\n      <td>Etobicoke</td>\n      <td>Kingsway Park South West,Mimico NW,The Queensw...</td>\n    </tr>\n    <tr>\n      <th>93</th>\n      <td>M9A</td>\n      <td>Etobicoke</td>\n      <td>Islington Avenue</td>\n    </tr>\n    <tr>\n      <th>94</th>\n      <td>M9B</td>\n      <td>Etobicoke</td>\n      <td>Cloverdale,Islington,Martin Grove,Princess Gar...</td>\n    </tr>\n    <tr>\n      <th>95</th>\n      <td>M9C</td>\n      <td>Etobicoke</td>\n      <td>Bloordale Gardens,Eringate,Markland Wood,Old B...</td>\n    </tr>\n    <tr>\n      <th>96</th>\n      <td>M9L</td>\n      <td>North York</td>\n      <td>Humber Summit</td>\n    </tr>\n    <tr>\n      <th>97</th>\n      <td>M9M</td>\n      <td>North York</td>\n      <td>Emery,Humberlea</td>\n    </tr>\n    <tr>\n      <th>98</th>\n      <td>M9N</td>\n      <td>York</td>\n      <td>Weston</td>\n    </tr>\n    <tr>\n      <th>99</th>\n      <td>M9P</td>\n      <td>Etobicoke</td>\n      <td>Westmount</td>\n    </tr>\n    <tr>\n      <th>100</th>\n      <td>M9R</td>\n      <td>Etobicoke</td>\n      <td>Kingsview Village,Martin Grove Gardens,Richvie...</td>\n    </tr>\n    <tr>\n      <th>101</th>\n      <td>M9V</td>\n      <td>Etobicoke</td>\n      <td>Albion Gardens,Beaumond Heights,Humbergate,Jam...</td>\n    </tr>\n    <tr>\n      <th>102</th>\n      <td>M9W</td>\n      <td>Etobicoke</td>\n      <td>Northwest</td>\n    </tr>\n  </tbody>\n</table>\n</div>", 
                        "text/plain": "    PostalCode       Borough  \\\n83         M6R  West Toronto   \n84         M6S  West Toronto   \n85         M7A  Queen's Park   \n86         M7R   Mississauga   \n87         M7Y  East Toronto   \n88         M8V     Etobicoke   \n89         M8W     Etobicoke   \n90         M8X     Etobicoke   \n91         M8Y     Etobicoke   \n92         M8Z     Etobicoke   \n93         M9A     Etobicoke   \n94         M9B     Etobicoke   \n95         M9C     Etobicoke   \n96         M9L    North York   \n97         M9M    North York   \n98         M9N          York   \n99         M9P     Etobicoke   \n100        M9R     Etobicoke   \n101        M9V     Etobicoke   \n102        M9W     Etobicoke   \n\n                                         Neighbourhood  \n83                               Parkdale,Roncesvalles  \n84                                   Runnymede,Swansea  \n85                                        Queen's Park  \n86               Canada Post Gateway Processing Centre  \n87   Business Reply Mail Processing Centre 969 Eastern  \n88          Humber Bay Shores,Mimico South,New Toronto  \n89                               Alderwood,Long Branch  \n90         The Kingsway,Montgomery Road,Old Mill North  \n91   Humber Bay,King's Mill Park,Kingsway Park Sout...  \n92   Kingsway Park South West,Mimico NW,The Queensw...  \n93                                    Islington Avenue  \n94   Cloverdale,Islington,Martin Grove,Princess Gar...  \n95   Bloordale Gardens,Eringate,Markland Wood,Old B...  \n96                                       Humber Summit  \n97                                     Emery,Humberlea  \n98                                              Weston  \n99                                           Westmount  \n100  Kingsview Village,Martin Grove Gardens,Richvie...  \n101  Albion Gardens,Beaumond Heights,Humbergate,Jam...  \n102                                          Northwest  "
                    }, 
                    "output_type": "execute_result"
                }
            ], 
            "source": "dfN.tail(20)"
        }, 
        {
            "execution_count": 9, 
            "cell_type": "code", 
            "metadata": {}, 
            "outputs": [
                {
                    "execution_count": 9, 
                    "metadata": {}, 
                    "data": {
                        "text/plain": "(103, 3)"
                    }, 
                    "output_type": "execute_result"
                }
            ], 
            "source": "dfN.shape"
        }, 
        {
            "source": "## Adding coordinates", 
            "cell_type": "markdown", 
            "metadata": {}
        }, 
        {
            "source": "1. get the latitude and the longitude coordinates of each neighborhood from https://geocoder.readthedocs.io/index.html.\n2. Once you are able to create the above dataframe, submit a link to the new Notebook on your Github repository.", 
            "cell_type": "markdown", 
            "metadata": {}
        }, 
        {
            "execution_count": 11, 
            "cell_type": "code", 
            "metadata": {}, 
            "outputs": [
                {
                    "output_type": "stream", 
                    "name": "stdout", 
                    "text": "--2019-07-09 05:03:02--  http://cocl.us/Geospatial_data\nResolving cocl.us (cocl.us)... 159.8.72.228\nConnecting to cocl.us (cocl.us)|159.8.72.228|:80... connected.\nHTTP request sent, awaiting response... 301 Moved Permanently\nLocation: https://cocl.us/Geospatial_data [following]\n--2019-07-09 05:03:03--  https://cocl.us/Geospatial_data\nConnecting to cocl.us (cocl.us)|159.8.72.228|:443... connected.\nHTTP request sent, awaiting response... 301 Moved Permanently\nLocation: https://ibm.box.com/shared/static/9afzr83pps4pwf2smjjcf1y5mvgb18rr.csv [following]\n--2019-07-09 05:03:03--  https://ibm.box.com/shared/static/9afzr83pps4pwf2smjjcf1y5mvgb18rr.csv\nResolving ibm.box.com (ibm.box.com)... 185.235.236.197\nConnecting to ibm.box.com (ibm.box.com)|185.235.236.197|:443... connected.\nHTTP request sent, awaiting response... 301 Moved Permanently\nLocation: /public/static/9afzr83pps4pwf2smjjcf1y5mvgb18rr.csv [following]\n--2019-07-09 05:03:03--  https://ibm.box.com/public/static/9afzr83pps4pwf2smjjcf1y5mvgb18rr.csv\nReusing existing connection to ibm.box.com:443.\nHTTP request sent, awaiting response... 301 Moved Permanently\nLocation: https://ibm.ent.box.com/public/static/9afzr83pps4pwf2smjjcf1y5mvgb18rr.csv [following]\n--2019-07-09 05:03:04--  https://ibm.ent.box.com/public/static/9afzr83pps4pwf2smjjcf1y5mvgb18rr.csv\nResolving ibm.ent.box.com (ibm.ent.box.com)... 107.152.26.211\nConnecting to ibm.ent.box.com (ibm.ent.box.com)|107.152.26.211|:443... connected.\nHTTP request sent, awaiting response... 302 Found\nLocation: https://public.boxcloud.com/d/1/b1!rJBqhC19xG5VBxoQ91-uF9YcFJ8Wek8DTJG1llkKFYGGIy5s5iuoASUu5JhZfKT28Eogauah28BViJPEMMgJo_XV9Npra8EmPO0ESPuhH5ZeGZ6MuQBg93sFPc3-iPTVIZ-S0o3NVajA5OvnCeqw5hIJqERaWKqQbcNglduaIdJwSmcDtOWuA3fkuGQFxJWqXoFze49pJtAh-GO48Q26VlKz7VQWuJckCXU2icN5EHkLiG6P-Ukhg6_CLAtNxElw6FzmBparSfeMOgy8r4Lltq8L9wY1LnbGmfe3qJ8ZGBdo2UjuTx-VPs8CNVt-ZvN8t1ZvP4JIQiklLUnvJ1F0hY3gkK583rxgon-8kft57OoRAx6FfGO8w7AMpsgBvg1l11vqPbbEMRgGuRVJue3GfBk4TALTVkHxNB3QqPgukf_QfPw7y_dLnBTqJAB4unG49SWBV8visCDWDXQOEtCXMvI9XF6l522qO6LP52t8BQ7g8D1pVXCAZSpwEQNGQTD6tFPv7Nfj5EZ-4I7MjlCQiwVTLpYdEP26NPpR10fJhmqpHIqACwITcxLLa82uBo0rk_1qTLi3IWWWEPSjY7cdOBsP8kggT7D3-kavdtLW-ADB5VTZeECRU5Su8SYbh9nG7Q3ZP8CeTtLnyqLdYn73hnROykvr8kduobATs6mpJwXWDK9QRs1JR2qV8k_BwUOKiBhHyE1-pSelrDedbjd_mJQyELxX-AApG62GsYBOC40iV14ibgop9LgSEjHz0-pDYXwlNr5U-rRz6pR7vbhukZLWDz3_MZPsAL3mUQcoXHABVYQG-NHzTZoDYcI5SLNU_q9rgY4StVXDHWViPy8NidxIENhGkR0XKlpcRNDcJYbFruI0Ov21QZ3f6M1sHS5CUxi-9BWUZmNiFbuo0gKdnHCjm3YlXImmmcjcIij78VMLef1rh0-NOl1Ki6Gn7SaHROWWD39xULaXhuWS2AKwaqHALVH3dMHU9ZGVHjc3sJJq8mT_NxUwhgle-sqgZYpIAT46Nz1gByFwReWlNk0lOxs14elOke2uPBZ7_mo-9mriNKp5HJXt-ZKr51tXRiNZ_7ioZ2Fn_FzX4dng_iS3D3DrHqc-NTcg0VcoGahxKgDAJ-3533I_T8TyfVlDKw251tCqzuestjWZqbdKHbpgtYU28MbtV43mU_wVX01SS6lbD00Zhz211-HaShPhBIkC-ogiUBtNIFlb2Q0H1tV2iOKT7WU5o5-c-Ultz3zK84b0WqjEDy4xxYs26HUZoiWHEE2iOi_jx07H7QrMvWDtVMjzAsrgsjE36VBuO5AdN2OByywQVAYvx2e8yfT8sQNCc43tAqBNLT7qQO0JQ8kqi8tr-bOBF-JFR7hKgxZ99VezlRulPslcTfUg6M54/download [following]\n--2019-07-09 05:03:04--  https://public.boxcloud.com/d/1/b1!rJBqhC19xG5VBxoQ91-uF9YcFJ8Wek8DTJG1llkKFYGGIy5s5iuoASUu5JhZfKT28Eogauah28BViJPEMMgJo_XV9Npra8EmPO0ESPuhH5ZeGZ6MuQBg93sFPc3-iPTVIZ-S0o3NVajA5OvnCeqw5hIJqERaWKqQbcNglduaIdJwSmcDtOWuA3fkuGQFxJWqXoFze49pJtAh-GO48Q26VlKz7VQWuJckCXU2icN5EHkLiG6P-Ukhg6_CLAtNxElw6FzmBparSfeMOgy8r4Lltq8L9wY1LnbGmfe3qJ8ZGBdo2UjuTx-VPs8CNVt-ZvN8t1ZvP4JIQiklLUnvJ1F0hY3gkK583rxgon-8kft57OoRAx6FfGO8w7AMpsgBvg1l11vqPbbEMRgGuRVJue3GfBk4TALTVkHxNB3QqPgukf_QfPw7y_dLnBTqJAB4unG49SWBV8visCDWDXQOEtCXMvI9XF6l522qO6LP52t8BQ7g8D1pVXCAZSpwEQNGQTD6tFPv7Nfj5EZ-4I7MjlCQiwVTLpYdEP26NPpR10fJhmqpHIqACwITcxLLa82uBo0rk_1qTLi3IWWWEPSjY7cdOBsP8kggT7D3-kavdtLW-ADB5VTZeECRU5Su8SYbh9nG7Q3ZP8CeTtLnyqLdYn73hnROykvr8kduobATs6mpJwXWDK9QRs1JR2qV8k_BwUOKiBhHyE1-pSelrDedbjd_mJQyELxX-AApG62GsYBOC40iV14ibgop9LgSEjHz0-pDYXwlNr5U-rRz6pR7vbhukZLWDz3_MZPsAL3mUQcoXHABVYQG-NHzTZoDYcI5SLNU_q9rgY4StVXDHWViPy8NidxIENhGkR0XKlpcRNDcJYbFruI0Ov21QZ3f6M1sHS5CUxi-9BWUZmNiFbuo0gKdnHCjm3YlXImmmcjcIij78VMLef1rh0-NOl1Ki6Gn7SaHROWWD39xULaXhuWS2AKwaqHALVH3dMHU9ZGVHjc3sJJq8mT_NxUwhgle-sqgZYpIAT46Nz1gByFwReWlNk0lOxs14elOke2uPBZ7_mo-9mriNKp5HJXt-ZKr51tXRiNZ_7ioZ2Fn_FzX4dng_iS3D3DrHqc-NTcg0VcoGahxKgDAJ-3533I_T8TyfVlDKw251tCqzuestjWZqbdKHbpgtYU28MbtV43mU_wVX01SS6lbD00Zhz211-HaShPhBIkC-ogiUBtNIFlb2Q0H1tV2iOKT7WU5o5-c-Ultz3zK84b0WqjEDy4xxYs26HUZoiWHEE2iOi_jx07H7QrMvWDtVMjzAsrgsjE36VBuO5AdN2OByywQVAYvx2e8yfT8sQNCc43tAqBNLT7qQO0JQ8kqi8tr-bOBF-JFR7hKgxZ99VezlRulPslcTfUg6M54/download\nResolving public.boxcloud.com (public.boxcloud.com)... 185.235.236.200\nConnecting to public.boxcloud.com (public.boxcloud.com)|185.235.236.200|:443... connected.\nHTTP request sent, awaiting response... 200 OK\nLength: 2891 (2.8K) [text/csv]\nSaving to: \u2018data.csv\u2019\n\n100%[======================================>] 2,891       --.-K/s   in 0s      \n\n2019-07-09 05:03:05 (366 MB/s) - \u2018data.csv\u2019 saved [2891/2891]\n\n"
                }
            ], 
            "source": "!wget -O data.csv http://cocl.us/Geospatial_data"
        }, 
        {
            "execution_count": 12, 
            "cell_type": "code", 
            "metadata": {}, 
            "outputs": [
                {
                    "execution_count": 12, 
                    "metadata": {}, 
                    "data": {
                        "text/html": "<div>\n<style scoped>\n    .dataframe tbody tr th:only-of-type {\n        vertical-align: middle;\n    }\n\n    .dataframe tbody tr th {\n        vertical-align: top;\n    }\n\n    .dataframe thead th {\n        text-align: right;\n    }\n</style>\n<table border=\"1\" class=\"dataframe\">\n  <thead>\n    <tr style=\"text-align: right;\">\n      <th></th>\n      <th>Postal Code</th>\n      <th>Latitude</th>\n      <th>Longitude</th>\n    </tr>\n  </thead>\n  <tbody>\n    <tr>\n      <th>0</th>\n      <td>M1B</td>\n      <td>43.806686</td>\n      <td>-79.194353</td>\n    </tr>\n    <tr>\n      <th>1</th>\n      <td>M1C</td>\n      <td>43.784535</td>\n      <td>-79.160497</td>\n    </tr>\n    <tr>\n      <th>2</th>\n      <td>M1E</td>\n      <td>43.763573</td>\n      <td>-79.188711</td>\n    </tr>\n    <tr>\n      <th>3</th>\n      <td>M1G</td>\n      <td>43.770992</td>\n      <td>-79.216917</td>\n    </tr>\n    <tr>\n      <th>4</th>\n      <td>M1H</td>\n      <td>43.773136</td>\n      <td>-79.239476</td>\n    </tr>\n  </tbody>\n</table>\n</div>", 
                        "text/plain": "  Postal Code   Latitude  Longitude\n0         M1B  43.806686 -79.194353\n1         M1C  43.784535 -79.160497\n2         M1E  43.763573 -79.188711\n3         M1G  43.770992 -79.216917\n4         M1H  43.773136 -79.239476"
                    }, 
                    "output_type": "execute_result"
                }
            ], 
            "source": "data = pd.read_csv(\"data.csv\") \ndata.head()"
        }, 
        {
            "execution_count": 15, 
            "cell_type": "code", 
            "metadata": {}, 
            "outputs": [
                {
                    "execution_count": 15, 
                    "metadata": {}, 
                    "data": {
                        "text/html": "<div>\n<style scoped>\n    .dataframe tbody tr th:only-of-type {\n        vertical-align: middle;\n    }\n\n    .dataframe tbody tr th {\n        vertical-align: top;\n    }\n\n    .dataframe thead th {\n        text-align: right;\n    }\n</style>\n<table border=\"1\" class=\"dataframe\">\n  <thead>\n    <tr style=\"text-align: right;\">\n      <th></th>\n      <th>PostalCode</th>\n      <th>Borough</th>\n      <th>Neighbourhood</th>\n      <th>Latitude</th>\n      <th>Longitude</th>\n    </tr>\n  </thead>\n  <tbody>\n    <tr>\n      <th>0</th>\n      <td>M1B</td>\n      <td>Scarborough</td>\n      <td>Rouge,Malvern</td>\n      <td>43.806686</td>\n      <td>-79.194353</td>\n    </tr>\n    <tr>\n      <th>1</th>\n      <td>M1C</td>\n      <td>Scarborough</td>\n      <td>Highland Creek,Rouge Hill,Port Union</td>\n      <td>43.784535</td>\n      <td>-79.160497</td>\n    </tr>\n    <tr>\n      <th>2</th>\n      <td>M1E</td>\n      <td>Scarborough</td>\n      <td>Guildwood,Morningside,West Hill</td>\n      <td>43.763573</td>\n      <td>-79.188711</td>\n    </tr>\n    <tr>\n      <th>3</th>\n      <td>M1G</td>\n      <td>Scarborough</td>\n      <td>Woburn</td>\n      <td>43.770992</td>\n      <td>-79.216917</td>\n    </tr>\n    <tr>\n      <th>4</th>\n      <td>M1H</td>\n      <td>Scarborough</td>\n      <td>Cedarbrae</td>\n      <td>43.773136</td>\n      <td>-79.239476</td>\n    </tr>\n  </tbody>\n</table>\n</div>", 
                        "text/plain": "  PostalCode      Borough                         Neighbourhood   Latitude  \\\n0        M1B  Scarborough                         Rouge,Malvern  43.806686   \n1        M1C  Scarborough  Highland Creek,Rouge Hill,Port Union  43.784535   \n2        M1E  Scarborough       Guildwood,Morningside,West Hill  43.763573   \n3        M1G  Scarborough                                Woburn  43.770992   \n4        M1H  Scarborough                             Cedarbrae  43.773136   \n\n   Longitude  \n0 -79.194353  \n1 -79.160497  \n2 -79.188711  \n3 -79.216917  \n4 -79.239476  "
                    }, 
                    "output_type": "execute_result"
                }
            ], 
            "source": "dfTotal=dfN.merge(data, left_on='PostalCode', right_on='Postal Code')\ndfTotal.drop([\"Postal Code\"], axis=1, inplace=True)\ndfTotal.head()"
        }, 
        {
            "source": "1. Explore and cluster the neighborhoods in Toronto. You can decide to work with only boroughs that contain the word Toronto and then replicate the same analysis we did to the New York City data. It is up to you.\n2. to add enough Markdown cells to explain what you decided to do and to report any observations you make.\n3. to generate maps to visualize your neighborhoods and how they cluster together.\n4. Once you are happy with your analysis, submit a link to the new Notebook on your Github repository", 
            "cell_type": "markdown", 
            "metadata": {}
        }, 
        {
            "execution_count": null, 
            "cell_type": "code", 
            "metadata": {}, 
            "outputs": [], 
            "source": "# The code was removed by Watson Studio for sharing."
        }, 
        {
            "execution_count": null, 
            "cell_type": "code", 
            "metadata": {}, 
            "outputs": [], 
            "source": ""
        }, 
        {
            "execution_count": null, 
            "cell_type": "code", 
            "metadata": {}, 
            "outputs": [], 
            "source": ""
        }
    ], 
    "metadata": {
        "kernelspec": {
            "display_name": "Python 3.6", 
            "name": "python3", 
            "language": "python"
        }, 
        "language_info": {
            "mimetype": "text/x-python", 
            "nbconvert_exporter": "python", 
            "version": "3.6.8", 
            "name": "python", 
            "file_extension": ".py", 
            "pygments_lexer": "ipython3", 
            "codemirror_mode": {
                "version": 3, 
                "name": "ipython"
            }
        }
    }, 
    "nbformat": 4
}